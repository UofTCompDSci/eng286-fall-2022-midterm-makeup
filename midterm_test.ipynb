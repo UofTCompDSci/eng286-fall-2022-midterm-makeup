{
 "cells": [
  {
   "cell_type": "markdown",
   "id": "f737113e",
   "metadata": {},
   "source": [
    "# ENG286 Midterm Test\n",
    "\n",
    "### Duration: One hour, fifty minutes\n",
    "\n",
    "### Three Parts, 38 Total Points Possible"
   ]
  },
  {
   "cell_type": "markdown",
   "id": "b7682bab",
   "metadata": {},
   "source": [
    "# Part 1: Coding Exercises (10 points, ~25 minutes)\n",
    "\n",
    "Part 1 of the exam asks you to perform a variety of coding tasks."
   ]
  },
  {
   "cell_type": "markdown",
   "id": "caffccee",
   "metadata": {},
   "source": [
    "### Task 1 (3 points)\n",
    "\n",
    "**Create the following three variables:**\n",
    "\n",
    "- **`string1`: a string with a length between 5 and 10 characters**\n",
    "- **`string2`: another string with a length between 10 and 20 characters**\n",
    "- **`integer`: an integer between 2 and 5**\n",
    "\n",
    "You may wish to verify your work by running `print()` on each of your newly created variables, and using `type()` to verify the type of each."
   ]
  },
  {
   "cell_type": "code",
   "execution_count": null,
   "id": "4c791edb",
   "metadata": {},
   "outputs": [],
   "source": []
  },
  {
   "cell_type": "markdown",
   "id": "ad73fafc",
   "metadata": {},
   "source": [
    "### Task 2 (3 points)\n",
    "\n",
    "**Create the following three variables:**\n",
    "\n",
    "* **Make `string3` by multiplying `string1` by `integer`**\n",
    "* **Make `string4` by adding `string1` and `string2` together**\n",
    "* **Make `boolean` by testing whether `string3` is equal to `string4`**\n",
    "\n",
    "You may wish to verify your work by running `print()` and `type()` on each of these newly created variables."
   ]
  },
  {
   "cell_type": "code",
   "execution_count": null,
   "id": "f5391d13",
   "metadata": {},
   "outputs": [],
   "source": []
  },
  {
   "cell_type": "markdown",
   "id": "6c158746",
   "metadata": {},
   "source": [
    "### Task 3 (2 points)\n",
    "\n",
    "**Create a new list variable, `list_o_strings`, which contains the values (in order) of `string1`, `string2`, `string3`, and `string4`.**\n",
    "\n",
    "You may wish to verify your work by running `print()` on `list_o_strings`."
   ]
  },
  {
   "cell_type": "code",
   "execution_count": null,
   "id": "1694b35b",
   "metadata": {},
   "outputs": [],
   "source": []
  },
  {
   "cell_type": "markdown",
   "id": "5ff4dc7e",
   "metadata": {},
   "source": [
    "### Task 4 (2 points)\n",
    "\n",
    "**Create a variable named `len_of_strings` that refers to an empty list. Using a `for` loop, iterate through the items in `list_o_strings`, finding the length (in number of characters) of each of the strings and adding these lengths, one by one, to the `len_of_strings` variable.**\n",
    "\n",
    "You may wish to verify your work by running `print()` on `len_of_strings`."
   ]
  },
  {
   "cell_type": "code",
   "execution_count": null,
   "id": "94e887ae",
   "metadata": {},
   "outputs": [],
   "source": []
  },
  {
   "cell_type": "markdown",
   "id": "405167cf",
   "metadata": {},
   "source": [
    "# Part 2: Type-Token Ratios (18 points, ~45 minutes)\n",
    "\n",
    "Part 2 of this exam consists of a TTR experiment on the chapters of Sir Arthur Conan Doyle's *The Sign of the Four*."
   ]
  },
  {
   "cell_type": "markdown",
   "id": "b064b425",
   "metadata": {},
   "source": [
    "The code cell below calculates non-standardized and standardized Type-Token Ratios for each of the chapters in *The Sign of the Four*.\n",
    "\n",
    "Run the cell."
   ]
  },
  {
   "cell_type": "code",
   "execution_count": 101,
   "id": "98538980",
   "metadata": {},
   "outputs": [],
   "source": [
    "import re\n",
    "from pathlib import Path\n",
    "\n",
    "folder_path = \"sot4chaps/\"\n",
    "\n",
    "sample_size = 0\n",
    "\n",
    "file = open(\"ttr-overall.csv\", mode=\"w\", encoding=\"utf-8\")\n",
    "\n",
    "file.write('\"Text\",\"Types\",\"Tokens\",\"TTR\"\\n')\n",
    "\n",
    "for file_path in sorted(Path(folder_path).glob('*.txt')):\n",
    "    \n",
    "    text = open(file_path, encoding='utf-8').read()\n",
    "    text = re.sub(\"[^a-zA-Z0-9]\", \" \", text)\n",
    "    \n",
    "    text_words = text.split()\n",
    "    tokens = len(text_words)  \n",
    "    \n",
    "    if sample_size == 0 or tokens < sample_size:\n",
    "        sample_size = tokens\n",
    "    \n",
    "    unique_words = []\n",
    "    \n",
    "    for word in text_words:\n",
    "        word = word.lower()  \n",
    "        if word not in unique_words:\n",
    "            unique_words.append(word)\n",
    "            \n",
    "    types = len(unique_words)\n",
    "    \n",
    "    ttr = (types / tokens) * 100\n",
    "    \n",
    "    file.write(f'\"{file_path.stem}\",{types},{tokens},{ttr}\\n')\n",
    "\n",
    "file.close()\n",
    "\n",
    "\n",
    "\n",
    "file = open(\"ttr-standardized.csv\", mode=\"w\", encoding=\"utf-8\")\n",
    "\n",
    "file.write('\"Text\",\"Types\",\"Tokens\",\"TTR\"\\n')\n",
    "\n",
    "for file_path in sorted(Path(folder_path).glob('*.txt')):\n",
    "    text = open(file_path, encoding='utf-8').read()\n",
    "    text = re.sub(\"[^a-zA-Z0-9]\", \" \", text)\n",
    "    \n",
    "    text_words = text.split()\n",
    "    text_words_standardized = text_words[:sample_size]\n",
    "    tokens_standardized = len(text_words_standardized)\n",
    "\n",
    "    unique_words_standardized = []\n",
    "    \n",
    "    for word in text_words_standardized:\n",
    "        word = word.lower()\n",
    "        if word not in unique_words_standardized:\n",
    "            unique_words_standardized.append(word)\n",
    "            \n",
    "    types_standardized = len(unique_words_standardized)\n",
    "    \n",
    "    ttr_standardized = (types_standardized / tokens_standardized) * 100\n",
    "    \n",
    "    file.write(f'\"{file_path.stem}\",{types_standardized},{tokens_standardized},{ttr_standardized}\\n')\n",
    "\n",
    "file.close()"
   ]
  },
  {
   "cell_type": "markdown",
   "id": "427a0052",
   "metadata": {},
   "source": [
    "## Tasks 6-8: Code Rationale\n",
    "\n",
    "This section consists of short answer questions relating to the code used above to calculate non-standardized and standardized TTRs for the chapters of *The Sign of the Four*.\n",
    "\n",
    "### Task 6 (3 points)\n",
    "\n",
    "**Why do we lowercase all words when calculating the number of types in a text? How would our TTR results be different if we didn't lowercase all words during this step?**"
   ]
  },
  {
   "cell_type": "markdown",
   "id": "c0e63604",
   "metadata": {},
   "source": [
    "(**REPLACE THIS TEXT AND ENTER YOUR ANSWER HERE.**)"
   ]
  },
  {
   "cell_type": "markdown",
   "id": "3abdf442",
   "metadata": {},
   "source": [
    "### Task 7 (3 points)\n",
    "\n",
    "**Why do we need to remove punctuation from the text in order to accurately determine the number of types and tokens in the text? How would our TTR results be different if we didn't remove punctuation?**"
   ]
  },
  {
   "cell_type": "markdown",
   "id": "324d7564",
   "metadata": {},
   "source": [
    "(**REPLACE THIS TEXT AND ENTER YOUR ANSWER HERE.**)"
   ]
  },
  {
   "cell_type": "markdown",
   "id": "cee378d1",
   "metadata": {},
   "source": [
    "### Task 8 (3 points)\n",
    "\n",
    "**In the line of code `text = re.sub(\"[^a-zA-Z0-9]\", \" \", text)`, what does the regular expression `[^a-zA-Z9-0]` mean? How would it affect our TTR values if we instead wrote `[a-zA-Z0-9]`, so that the line of code was `text = re.sub(\"[a-zA-Z0-9]\", \" \", text)`?**"
   ]
  },
  {
   "cell_type": "markdown",
   "id": "442eec30",
   "metadata": {},
   "source": [
    "(**REPLACE THIS TEXT AND ENTER YOUR ANSWER HERE.**)"
   ]
  },
  {
   "cell_type": "markdown",
   "id": "75404f5d",
   "metadata": {},
   "source": [
    "The two code cells below load the CSV files created above and display them as tables. \n",
    "\n",
    "The first cell gives non-standardized values, and the second gives standardized values.\n",
    "\n",
    "Run both cells."
   ]
  },
  {
   "cell_type": "code",
   "execution_count": 102,
   "id": "081ca137",
   "metadata": {},
   "outputs": [
    {
     "data": {
      "text/html": [
       "<div>\n",
       "<style scoped>\n",
       "    .dataframe tbody tr th:only-of-type {\n",
       "        vertical-align: middle;\n",
       "    }\n",
       "\n",
       "    .dataframe tbody tr th {\n",
       "        vertical-align: top;\n",
       "    }\n",
       "\n",
       "    .dataframe thead th {\n",
       "        text-align: right;\n",
       "    }\n",
       "</style>\n",
       "<table border=\"1\" class=\"dataframe\">\n",
       "  <thead>\n",
       "    <tr style=\"text-align: right;\">\n",
       "      <th></th>\n",
       "      <th>Text</th>\n",
       "      <th>Types</th>\n",
       "      <th>Tokens</th>\n",
       "      <th>TTR</th>\n",
       "    </tr>\n",
       "  </thead>\n",
       "  <tbody>\n",
       "    <tr>\n",
       "      <th>0</th>\n",
       "      <td>01 The Science of Deduction</td>\n",
       "      <td>1042</td>\n",
       "      <td>2986</td>\n",
       "      <td>34.896182</td>\n",
       "    </tr>\n",
       "    <tr>\n",
       "      <th>1</th>\n",
       "      <td>02 The Statement of the Case</td>\n",
       "      <td>714</td>\n",
       "      <td>1867</td>\n",
       "      <td>38.243171</td>\n",
       "    </tr>\n",
       "    <tr>\n",
       "      <th>2</th>\n",
       "      <td>03 In Quest of a Solution</td>\n",
       "      <td>730</td>\n",
       "      <td>1769</td>\n",
       "      <td>41.266252</td>\n",
       "    </tr>\n",
       "    <tr>\n",
       "      <th>3</th>\n",
       "      <td>04 The Story of the Bald-Headed Man</td>\n",
       "      <td>1153</td>\n",
       "      <td>3884</td>\n",
       "      <td>29.685891</td>\n",
       "    </tr>\n",
       "    <tr>\n",
       "      <th>4</th>\n",
       "      <td>05 The Tragedy of Pondicherry Lodge</td>\n",
       "      <td>849</td>\n",
       "      <td>2669</td>\n",
       "      <td>31.809667</td>\n",
       "    </tr>\n",
       "    <tr>\n",
       "      <th>5</th>\n",
       "      <td>06 Sherlock Holmes Gives a Demonstration</td>\n",
       "      <td>964</td>\n",
       "      <td>3191</td>\n",
       "      <td>30.209966</td>\n",
       "    </tr>\n",
       "    <tr>\n",
       "      <th>6</th>\n",
       "      <td>07 The Episode of the Barrel</td>\n",
       "      <td>1325</td>\n",
       "      <td>4277</td>\n",
       "      <td>30.979659</td>\n",
       "    </tr>\n",
       "    <tr>\n",
       "      <th>7</th>\n",
       "      <td>08 The Baker Street Irregulars</td>\n",
       "      <td>1085</td>\n",
       "      <td>3412</td>\n",
       "      <td>31.799531</td>\n",
       "    </tr>\n",
       "    <tr>\n",
       "      <th>8</th>\n",
       "      <td>09 A Break in the Chain</td>\n",
       "      <td>1009</td>\n",
       "      <td>3686</td>\n",
       "      <td>27.373847</td>\n",
       "    </tr>\n",
       "    <tr>\n",
       "      <th>9</th>\n",
       "      <td>10 The End of the Islander</td>\n",
       "      <td>1034</td>\n",
       "      <td>3399</td>\n",
       "      <td>30.420712</td>\n",
       "    </tr>\n",
       "    <tr>\n",
       "      <th>10</th>\n",
       "      <td>11 The Great Agra Treasure</td>\n",
       "      <td>722</td>\n",
       "      <td>2219</td>\n",
       "      <td>32.537179</td>\n",
       "    </tr>\n",
       "    <tr>\n",
       "      <th>11</th>\n",
       "      <td>12 The Strange Story of Jonathan Small</td>\n",
       "      <td>1965</td>\n",
       "      <td>10445</td>\n",
       "      <td>18.812829</td>\n",
       "    </tr>\n",
       "  </tbody>\n",
       "</table>\n",
       "</div>"
      ],
      "text/plain": [
       "                                        Text  Types  Tokens        TTR\n",
       "0                01 The Science of Deduction   1042    2986  34.896182\n",
       "1               02 The Statement of the Case    714    1867  38.243171\n",
       "2                  03 In Quest of a Solution    730    1769  41.266252\n",
       "3        04 The Story of the Bald-Headed Man   1153    3884  29.685891\n",
       "4        05 The Tragedy of Pondicherry Lodge    849    2669  31.809667\n",
       "5   06 Sherlock Holmes Gives a Demonstration    964    3191  30.209966\n",
       "6               07 The Episode of the Barrel   1325    4277  30.979659\n",
       "7             08 The Baker Street Irregulars   1085    3412  31.799531\n",
       "8                    09 A Break in the Chain   1009    3686  27.373847\n",
       "9                 10 The End of the Islander   1034    3399  30.420712\n",
       "10                11 The Great Agra Treasure    722    2219  32.537179\n",
       "11    12 The Strange Story of Jonathan Small   1965   10445  18.812829"
      ]
     },
     "execution_count": 102,
     "metadata": {},
     "output_type": "execute_result"
    }
   ],
   "source": [
    "import pandas as pd \n",
    "sot4chaps_overall = pd.read_csv('ttr-overall.csv')\n",
    "sot4chaps_overall"
   ]
  },
  {
   "cell_type": "code",
   "execution_count": 103,
   "id": "f69a7fa1",
   "metadata": {},
   "outputs": [
    {
     "data": {
      "text/html": [
       "<div>\n",
       "<style scoped>\n",
       "    .dataframe tbody tr th:only-of-type {\n",
       "        vertical-align: middle;\n",
       "    }\n",
       "\n",
       "    .dataframe tbody tr th {\n",
       "        vertical-align: top;\n",
       "    }\n",
       "\n",
       "    .dataframe thead th {\n",
       "        text-align: right;\n",
       "    }\n",
       "</style>\n",
       "<table border=\"1\" class=\"dataframe\">\n",
       "  <thead>\n",
       "    <tr style=\"text-align: right;\">\n",
       "      <th></th>\n",
       "      <th>Text</th>\n",
       "      <th>Types</th>\n",
       "      <th>Tokens</th>\n",
       "      <th>TTR</th>\n",
       "    </tr>\n",
       "  </thead>\n",
       "  <tbody>\n",
       "    <tr>\n",
       "      <th>0</th>\n",
       "      <td>01 The Science of Deduction</td>\n",
       "      <td>713</td>\n",
       "      <td>1769</td>\n",
       "      <td>40.305257</td>\n",
       "    </tr>\n",
       "    <tr>\n",
       "      <th>1</th>\n",
       "      <td>02 The Statement of the Case</td>\n",
       "      <td>686</td>\n",
       "      <td>1769</td>\n",
       "      <td>38.778971</td>\n",
       "    </tr>\n",
       "    <tr>\n",
       "      <th>2</th>\n",
       "      <td>03 In Quest of a Solution</td>\n",
       "      <td>730</td>\n",
       "      <td>1769</td>\n",
       "      <td>41.266252</td>\n",
       "    </tr>\n",
       "    <tr>\n",
       "      <th>3</th>\n",
       "      <td>04 The Story of the Bald-Headed Man</td>\n",
       "      <td>682</td>\n",
       "      <td>1769</td>\n",
       "      <td>38.552855</td>\n",
       "    </tr>\n",
       "    <tr>\n",
       "      <th>4</th>\n",
       "      <td>05 The Tragedy of Pondicherry Lodge</td>\n",
       "      <td>639</td>\n",
       "      <td>1769</td>\n",
       "      <td>36.122103</td>\n",
       "    </tr>\n",
       "    <tr>\n",
       "      <th>5</th>\n",
       "      <td>06 Sherlock Holmes Gives a Demonstration</td>\n",
       "      <td>635</td>\n",
       "      <td>1769</td>\n",
       "      <td>35.895986</td>\n",
       "    </tr>\n",
       "    <tr>\n",
       "      <th>6</th>\n",
       "      <td>07 The Episode of the Barrel</td>\n",
       "      <td>702</td>\n",
       "      <td>1769</td>\n",
       "      <td>39.683437</td>\n",
       "    </tr>\n",
       "    <tr>\n",
       "      <th>7</th>\n",
       "      <td>08 The Baker Street Irregulars</td>\n",
       "      <td>630</td>\n",
       "      <td>1769</td>\n",
       "      <td>35.613341</td>\n",
       "    </tr>\n",
       "    <tr>\n",
       "      <th>8</th>\n",
       "      <td>09 A Break in the Chain</td>\n",
       "      <td>624</td>\n",
       "      <td>1769</td>\n",
       "      <td>35.274166</td>\n",
       "    </tr>\n",
       "    <tr>\n",
       "      <th>9</th>\n",
       "      <td>10 The End of the Islander</td>\n",
       "      <td>624</td>\n",
       "      <td>1769</td>\n",
       "      <td>35.274166</td>\n",
       "    </tr>\n",
       "    <tr>\n",
       "      <th>10</th>\n",
       "      <td>11 The Great Agra Treasure</td>\n",
       "      <td>616</td>\n",
       "      <td>1769</td>\n",
       "      <td>34.821933</td>\n",
       "    </tr>\n",
       "    <tr>\n",
       "      <th>11</th>\n",
       "      <td>12 The Strange Story of Jonathan Small</td>\n",
       "      <td>618</td>\n",
       "      <td>1769</td>\n",
       "      <td>34.934992</td>\n",
       "    </tr>\n",
       "  </tbody>\n",
       "</table>\n",
       "</div>"
      ],
      "text/plain": [
       "                                        Text  Types  Tokens        TTR\n",
       "0                01 The Science of Deduction    713    1769  40.305257\n",
       "1               02 The Statement of the Case    686    1769  38.778971\n",
       "2                  03 In Quest of a Solution    730    1769  41.266252\n",
       "3        04 The Story of the Bald-Headed Man    682    1769  38.552855\n",
       "4        05 The Tragedy of Pondicherry Lodge    639    1769  36.122103\n",
       "5   06 Sherlock Holmes Gives a Demonstration    635    1769  35.895986\n",
       "6               07 The Episode of the Barrel    702    1769  39.683437\n",
       "7             08 The Baker Street Irregulars    630    1769  35.613341\n",
       "8                    09 A Break in the Chain    624    1769  35.274166\n",
       "9                 10 The End of the Islander    624    1769  35.274166\n",
       "10                11 The Great Agra Treasure    616    1769  34.821933\n",
       "11    12 The Strange Story of Jonathan Small    618    1769  34.934992"
      ]
     },
     "execution_count": 103,
     "metadata": {},
     "output_type": "execute_result"
    }
   ],
   "source": [
    "sot4chaps_standardized = pd.read_csv('ttr-standardized.csv')\n",
    "sot4chaps_standardized"
   ]
  },
  {
   "cell_type": "markdown",
   "id": "61e58365",
   "metadata": {},
   "source": [
    "## Tasks 9–11: TTR Interpretation\n",
    "\n",
    "This section asks questions related to the results of the TTR experiment, displayed in the tables above.\n",
    "\n",
    "### Task 9 (3 points)\n",
    "\n",
    "**What might you learn from an experiment like this, which compares the TTRs of various parts of a single work? Why make this kind of comparison?**"
   ]
  },
  {
   "cell_type": "markdown",
   "id": "65617c24",
   "metadata": {},
   "source": [
    "(**REPLACE THIS TEXT AND ENTER YOUR ANSWER HERE.**)"
   ]
  },
  {
   "cell_type": "markdown",
   "id": "aa6754a9",
   "metadata": {},
   "source": [
    "### Task 10 (3 points)\n",
    "\n",
    "**What do we actually learn from this particular TTR experiment? Which numbers strike you as the most significant?**"
   ]
  },
  {
   "cell_type": "markdown",
   "id": "943b7064",
   "metadata": {},
   "source": [
    "(**REPLACE THIS TEXT AND ENTER YOUR ANSWER HERE.**)"
   ]
  },
  {
   "cell_type": "markdown",
   "id": "bd5e0c69",
   "metadata": {},
   "source": [
    "### Task 11 (3 points)\n",
    "\n",
    "**What further data or information would you require to interpret these numbers more fully?**"
   ]
  },
  {
   "cell_type": "markdown",
   "id": "ac9ff674",
   "metadata": {},
   "source": [
    "(**REPLACE THIS TEXT AND ENTER YOUR ANSWER HERE.**)"
   ]
  },
  {
   "cell_type": "markdown",
   "id": "38e8a5bf",
   "metadata": {},
   "source": [
    "# Part 3: Reading Response (10 points, ~25 minutes) "
   ]
  },
  {
   "cell_type": "markdown",
   "id": "ea2d5832",
   "metadata": {},
   "source": [
    "In our first lecture, we discussed the question of whether Sherlock Holmes is \"the most objective character in *The Sign of the Four*.\" \n",
    "\n",
    "In the course of this discussion, we met the subjectivity score system that comes as part of the TextBlob package. The system automatically assigns a score between 0.0 (not at all subjective) and 1.0 (extremely subjective) to any string. \n",
    "\n",
    "We then looked at the following table. It shows a sorted list of all the characters in *The Sign of the Four*, ranked in terms of the average \"subjectivity\" of their passages of dialogue in the novel. The characters whose speech is deemed \"most subjective\" (and \"least objective\") appear at the bottom of the list.\n",
    "\n",
    "![Table of characters in The Sign of the Four, ranked by mean subjectivity](mean_subjectivity_sot4.png)\n",
    "\n",
    "We concluded our discussion by asking whether TextBlob's subjectivity score can itself be considered \"objective.\" In particular, we asked \"What would we need to know to answer that question?\"\n",
    "\n",
    "Many of the course readings since that first lecture have addressed these kinds of questions directly. \n",
    "\n",
    "### Task 12 (10 points)\n",
    "\n",
    "**Drawing on AT LEAST ONE COURSE READING, present your current response to that question. What would we need to know in order to assess whether TextBlob's subjectivity score is itself \"objective\"?**\n",
    "\n",
    "Present your answer in the Markdown cell below. Write in full sentences and paragraphs; do not use point form.\n"
   ]
  },
  {
   "cell_type": "markdown",
   "id": "7fba880c",
   "metadata": {},
   "source": [
    "(**REPLACE THIS TEXT AND ENTER YOUR ANSWER HERE.**)"
   ]
  },
  {
   "cell_type": "markdown",
   "id": "465c7ba8",
   "metadata": {},
   "source": [
    "## How to Submit\n",
    "1. Download your midterm Jupyter notebook to your local computer and save it as `midterm_test.ipynb`.\n",
    "2. Log in here: https://markus-ds.teach.cs.toronto.edu.\n",
    "3. Submit your notebook to `midterm-test`."
   ]
  }
 ],
 "metadata": {
  "kernelspec": {
   "display_name": "Python 3",
   "language": "python",
   "name": "python3"
  },
  "language_info": {
   "codemirror_mode": {
    "name": "ipython",
    "version": 3
   },
   "file_extension": ".py",
   "mimetype": "text/x-python",
   "name": "python",
   "nbconvert_exporter": "python",
   "pygments_lexer": "ipython3",
   "version": "3.7.4"
  },
  "vscode": {
   "interpreter": {
    "hash": "901b79e026e03396fd1ffa7133844e9ea80e258ce34c66e1aabb5896bcb18463"
   }
  }
 },
 "nbformat": 4,
 "nbformat_minor": 5
}
